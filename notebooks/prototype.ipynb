{
 "cells": [
  {
   "cell_type": "markdown",
   "id": "5b570f79",
   "metadata": {},
   "source": [
    "# Bloch Sphere Visualizer: Introduction\n",
    "\n",
    "In order to visualize qubit states using the Bloch sphere, I will first test my knowledge of the math behind the Bloch sphere, and then I will attempt to plot vectors on a unit $2$-sphere using plotly.\n"
   ]
  },
  {
   "cell_type": "markdown",
   "id": "24c5749a",
   "metadata": {},
   "source": [
    "# The Math Behind the Bloch Sphere\n",
    "\n",
    "A bloch sphere represents a single qubit's state on a unit sphere. On the bloch sphere, the point touching the positive $z$-axis represents the $\\ket{0}$ state, while the point touching the negative $z$-axis represents the $\\ket{1}$ state. The point touching the positive $x$-axis represents the $\\ket{+}$ state, while the point touching the negative $x$-axis represents the $\\ket{-}$ state. The point touching the negative $y$-axis represents the $\\ket{+i}$ state, while the point touching the negative $y$-axis represents the $\\ket{-i}$ state.\n"
   ]
  },
  {
   "cell_type": "markdown",
   "id": "1be5145a",
   "metadata": {},
   "source": [
    "## Deriving the Cartesian Vector for Pure States\n",
    "\n",
    "Any pure state $\\ket{\\psi}$ can be written in the form $$\\ket{\\psi}=\\cos(\\frac{\\theta}{2})\\ket{0}+e^{i\\phi}\\sin(\\frac{\\theta}{2})$$ up to a global state for every $\\theta\\in[0,\\pi]$ and every $\\phi\\in[0,2\\pi)$. The density matrix representation of this state is\n",
    "\n",
    "$$\n",
    "\\rho=\\ket{\\psi}\\bra{\\psi}=\\begin{pmatrix}\\cos^2(\\frac{\\theta}{2})&\\cos(\\frac{\\theta}{2})\\cdot e^{-i\\phi}\\sin(\\frac{\\theta}{2})\\\\\\cos(\\frac{\\theta}{2})\\cdot e^{i\\phi}\\sin(\\frac{\\theta}{2})&\\sin^2(\\frac{\\theta}{2})\\end{pmatrix}\n",
    "$$\n",
    "\n",
    "This vector can be simplified according to the following identities.\n"
   ]
  },
  {
   "cell_type": "markdown",
   "id": "45ccf4cc",
   "metadata": {},
   "source": [
    "### Simplifying the Diagonal Terms\n",
    "\n",
    "1. Simplify $\\cos^2(\\frac{\\theta}{2})$. The cosine double angle theorem yields the following equality: $$\\cos^2(\\frac{\\theta}{2})=\\cos(\\theta)+\\sin^2(\\frac{\\theta}{2}).$$ The term $\\sin^2(\\frac{\\theta}{2})$ can be rewritten as $1-\\cos^2(\\frac{\\theta}{2})$ due to the pythagorean identity: $\\sin^2(\\theta)+\\cos^2(\\theta)=1$. Thus, the equation becomes $$\\cos^2(\\frac{\\theta}{2})=\\cos(\\theta)+1-\\cos^2(\\frac{\\theta}{2}).$$ Using algebra, the equation yields the simplified form $$\\cos^2(\\frac{\\theta}{2})=\\frac{1+\\cos(\\theta)}{2}.$$\n",
    "2. Simplify $\\sin^2(\\frac{\\theta}{2})$. The cosine double angle theorem yields the following equality: $$\\sin^2(\\frac{\\theta}{2})=\\cos^2(\\frac{\\theta}{2})-\\cos(\\theta).$$ The term $\\cos^2(\\frac{\\theta}{2})$ can be rewritten as $1-\\sin^2(\\frac{\\theta}{2})$ due to the pythagorean identity: $\\sin^2(\\theta)+\\cos^2(\\theta)=1$. Thus, the equation becomes $$\\sin^2(\\frac{\\theta}{2})=1-\\sin^2(\\frac{\\theta}{2})+\\cos(\\theta).$$ Using algebra, the equation yields the simplified form $$\\sin^2(\\frac{\\theta}{2})=\\frac{1-\\cos(\\theta)}{2}.$$\n"
   ]
  },
  {
   "cell_type": "markdown",
   "id": "40d59c90",
   "metadata": {},
   "source": [
    "### Simplifying the Non-Diagonal Terms\n",
    "\n",
    "The terms $\\cos(\\frac{\\theta}{2})\\cdot e^{i\\phi}\\sin(\\frac{\\theta}{2})$ and $\\cos(\\frac{\\theta}{2})\\cdot e^{-i\\phi}\\sin(\\frac{\\theta}{2})$ can be simplified in the same way; only the ication of the first term will be shown. The sine double angle theorem yields the equalition $$\\cos(\\frac{\\theta}{2})\\cdot e^{i\\phi}\\sin(\\frac{\\theta}{2})=\\frac{1}{2}\\sin(\\theta)\\cdot e^{i\\phi}.$$ Using euler's equation, the equation can rewritten in the simplified form $$\\cos(\\frac{\\theta}{2})\\cdot e^{i\\phi}\\sin(\\frac{\\theta}{2})=\\frac{1}{2}\\sin(\\theta)\\left(\\cos(\\phi)+i\\sin(\\phi)\\right).$$ The simplified form of the other term (where $i$ is negative) is the same expression except the terms within the parentheses are subtracted instead of added.\n"
   ]
  },
  {
   "cell_type": "markdown",
   "id": "5d635d48",
   "metadata": {},
   "source": [
    "### Finding the Cartesian Vector\n",
    "\n",
    "Using the simplified forms of the terms, the density matrix becomes $$\\rho=\\frac{1}{2}\\begin{pmatrix}1+\\cos(\\theta)&\\sin(\\theta)(\\cos(\\phi)-i\\sin(\\phi))\\\\\\sin(\\theta)(\\cos(\\phi)-i\\sin(\\phi))&1-\\cos(\\theta)\\end{pmatrix}.$$ This can be written as a sum of the pauli matrices as follows.\n",
    "\n",
    "$$\n",
    "\\rho=\\frac{\\mathbb{I}+\\sin(\\theta)\\cos(\\phi)\\sigma_x+\\sin(\\theta)\\sin(\\phi)\\sigma_y+\\cos(\\theta)\\sigma_z}{2}\n",
    "$$\n",
    "\n",
    "For reference, the pauli matrices are\n",
    "\n",
    "$$\n",
    "\\sigma_x=\\begin{pmatrix}0&1\\\\1&0\\end{pmatrix}, \\sigma_y=\\begin{pmatrix}0&-i\\\\ i&0\\end{pmatrix}, \\sigma_z=\\begin{pmatrix}1&0\\\\0&-1\\end{pmatrix}.\n",
    "$$\n",
    "\n",
    "Taking each of the coefficients into a three-dimensional vector yields the vector $$(\\sin(\\theta)\\cos(\\phi),\\sin(\\theta)\\sin(\\phi),\\cos(\\theta)),$$ which can be used to describe every pure state as a location on the unit $2$-sphere.\n",
    "\n",
    "Beginning from the north pole, which is the point on the sphere's surface touching the positive $z$-axis, the angle $\\theta$ is the _polar angle_ and the angle $\\phi$ is the _azimuthal angle._ The polar angle indicates a rotation from the positive $z$-axis toward the negative $z$-axis, with the origin as the pivot. This essentially determines the probability of the state being $\\ket{0}$ or $\\ket{1}$; an angle smaller than $\\frac{\\pi}{2}$ indicates a higher probability for $\\ket{0}$ to be measured, an angle larger than $\\frac{\\pi}{2}$ indicates a higher probability for $\\ket{1}$ to be measured, and an angle of exactly $\\frac{\\pi}{2}$ indicates an equal chance of measuring either outcome. The azimuthal angle indicates a rotation around the $z$-axis, beginning at the prime meridian (the curve along the surface of the sphere touching both the $z$- and $x$-axis). This represents the _phase_ of the qubit.\n"
   ]
  },
  {
   "cell_type": "markdown",
   "id": "fe872221",
   "metadata": {},
   "source": [
    "# Implementing the Bloch Sphere with Plotly\n"
   ]
  },
  {
   "cell_type": "markdown",
   "id": "87a73353",
   "metadata": {},
   "source": [
    "First, find the unique pair $(\\theta,\\phi)$ for a given qubit state vector.\n"
   ]
  },
  {
   "cell_type": "code",
   "execution_count": 69,
   "id": "3e6ca4bd",
   "metadata": {},
   "outputs": [
    {
     "name": "stdout",
     "output_type": "stream",
     "text": [
      "1.9106332362490184\n",
      "0.7071067811865476\n"
     ]
    },
    {
     "name": "stderr",
     "output_type": "stream",
     "text": [
      "C:\\Users\\branf\\AppData\\Local\\Temp\\ipykernel_5172\\1758903367.py:4: ComplexWarning:\n",
      "\n",
      "Casting complex values to real discards the imaginary part\n",
      "\n",
      "C:\\Users\\branf\\AppData\\Local\\Temp\\ipykernel_5172\\1758903367.py:5: ComplexWarning:\n",
      "\n",
      "Casting complex values to real discards the imaginary part\n",
      "\n"
     ]
    }
   ],
   "source": [
    "import numpy as np\n",
    "\n",
    "qubit = np.array([1/np.sqrt(3), np.sqrt(2j/3)], dtype=complex)\n",
    "theta = float(np.arccos(qubit[0]) * 2)\n",
    "phi = float(qubit[0] / np.sin(theta/2))\n",
    "\n",
    "print(theta)\n",
    "print(phi)"
   ]
  },
  {
   "cell_type": "markdown",
   "id": "27ab474a",
   "metadata": {},
   "source": [
    "Next, plot the Bloch sphere and the vector corresponding to the given qubit state.\n"
   ]
  },
  {
   "cell_type": "code",
   "execution_count": 83,
   "id": "048b7990",
   "metadata": {},
   "outputs": [
    {
     "name": "stdout",
     "output_type": "stream",
     "text": [
      "0.7167654799368168\n"
     ]
    },
    {
     "data": {
      "application/vnd.plotly.v1+json": {
       "config": {
        "plotlyServerURL": "https://plot.ly"
       },
       "data": [
        {
         "colorscale": [
          [
           0,
           "white"
          ],
          [
           1,
           "white"
          ]
         ],
         "opacity": 0.4,
         "type": "surface",
         "x": {
          "bdata": "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",
          "dtype": "f8",
          "shape": "40, 20"
         },
         "y": {
          "bdata": "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",
          "dtype": "f8",
          "shape": "40, 20"
         },
         "z": {
          "bdata": "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",
          "dtype": "f8",
          "shape": "40, 20"
         }
        },
        {
         "line": {
          "color": "red",
          "width": 1
         },
         "mode": "lines",
         "name": "x-axis",
         "type": "scatter3d",
         "x": [
          -1.5,
          1.5
         ],
         "y": [
          0,
          0
         ],
         "z": [
          0,
          0
         ]
        },
        {
         "line": {
          "color": "green",
          "width": 1
         },
         "mode": "lines",
         "name": "y-axis",
         "type": "scatter3d",
         "x": [
          0,
          0
         ],
         "y": [
          -1.5,
          1.5
         ],
         "z": [
          0,
          0
         ]
        },
        {
         "line": {
          "color": "blue",
          "width": 1
         },
         "mode": "lines",
         "name": "z-axis",
         "type": "scatter3d",
         "x": [
          0,
          0
         ],
         "y": [
          0,
          0
         ],
         "z": [
          -1.5,
          1.5
         ]
        },
        {
         "marker": {
          "color": "black",
          "size": 2
         },
         "mode": "markers+text",
         "name": "Important States",
         "text": [
          "|+>",
          "|->",
          "|+i>",
          "|-i>",
          "|0>",
          "|1>"
         ],
         "textposition": "top center",
         "type": "scatter3d",
         "x": [
          1,
          -1,
          0,
          0,
          0,
          0
         ],
         "y": [
          0,
          0,
          1,
          -1,
          0,
          0
         ],
         "z": [
          0,
          0,
          0,
          0,
          1,
          -1
         ]
        },
        {
         "line": {
          "color": "purple",
          "width": 6
         },
         "marker": {
          "color": "purple",
          "size": 2
         },
         "mode": "lines+markers",
         "name": "qubit state",
         "type": "scatter3d",
         "x": [
          0,
          0.5734123839494535
         ],
         "y": [
          0,
          0.48998686392830326
         ],
         "z": [
          0,
          -0.26666666666666655
         ]
        },
        {
         "anchor": "tip",
         "colorscale": [
          [
           0,
           "purple"
          ],
          [
           1,
           "purple"
          ]
         ],
         "showscale": false,
         "sizemode": "absolute",
         "sizeref": 0.2,
         "type": "cone",
         "u": [
          0.7167654799368168
         ],
         "v": [
          0.612483579910379
         ],
         "w": [
          -0.33333333333333315
         ],
         "x": [
          0.7167654799368168
         ],
         "y": [
          0.612483579910379
         ],
         "z": [
          -0.33333333333333315
         ]
        }
       ],
       "layout": {
        "template": {
         "data": {
          "bar": [
           {
            "error_x": {
             "color": "#2a3f5f"
            },
            "error_y": {
             "color": "#2a3f5f"
            },
            "marker": {
             "line": {
              "color": "#E5ECF6",
              "width": 0.5
             },
             "pattern": {
              "fillmode": "overlay",
              "size": 10,
              "solidity": 0.2
             }
            },
            "type": "bar"
           }
          ],
          "barpolar": [
           {
            "marker": {
             "line": {
              "color": "#E5ECF6",
              "width": 0.5
             },
             "pattern": {
              "fillmode": "overlay",
              "size": 10,
              "solidity": 0.2
             }
            },
            "type": "barpolar"
           }
          ],
          "carpet": [
           {
            "aaxis": {
             "endlinecolor": "#2a3f5f",
             "gridcolor": "white",
             "linecolor": "white",
             "minorgridcolor": "white",
             "startlinecolor": "#2a3f5f"
            },
            "baxis": {
             "endlinecolor": "#2a3f5f",
             "gridcolor": "white",
             "linecolor": "white",
             "minorgridcolor": "white",
             "startlinecolor": "#2a3f5f"
            },
            "type": "carpet"
           }
          ],
          "choropleth": [
           {
            "colorbar": {
             "outlinewidth": 0,
             "ticks": ""
            },
            "type": "choropleth"
           }
          ],
          "contour": [
           {
            "colorbar": {
             "outlinewidth": 0,
             "ticks": ""
            },
            "colorscale": [
             [
              0,
              "#0d0887"
             ],
             [
              0.1111111111111111,
              "#46039f"
             ],
             [
              0.2222222222222222,
              "#7201a8"
             ],
             [
              0.3333333333333333,
              "#9c179e"
             ],
             [
              0.4444444444444444,
              "#bd3786"
             ],
             [
              0.5555555555555556,
              "#d8576b"
             ],
             [
              0.6666666666666666,
              "#ed7953"
             ],
             [
              0.7777777777777778,
              "#fb9f3a"
             ],
             [
              0.8888888888888888,
              "#fdca26"
             ],
             [
              1,
              "#f0f921"
             ]
            ],
            "type": "contour"
           }
          ],
          "contourcarpet": [
           {
            "colorbar": {
             "outlinewidth": 0,
             "ticks": ""
            },
            "type": "contourcarpet"
           }
          ],
          "heatmap": [
           {
            "colorbar": {
             "outlinewidth": 0,
             "ticks": ""
            },
            "colorscale": [
             [
              0,
              "#0d0887"
             ],
             [
              0.1111111111111111,
              "#46039f"
             ],
             [
              0.2222222222222222,
              "#7201a8"
             ],
             [
              0.3333333333333333,
              "#9c179e"
             ],
             [
              0.4444444444444444,
              "#bd3786"
             ],
             [
              0.5555555555555556,
              "#d8576b"
             ],
             [
              0.6666666666666666,
              "#ed7953"
             ],
             [
              0.7777777777777778,
              "#fb9f3a"
             ],
             [
              0.8888888888888888,
              "#fdca26"
             ],
             [
              1,
              "#f0f921"
             ]
            ],
            "type": "heatmap"
           }
          ],
          "histogram": [
           {
            "marker": {
             "pattern": {
              "fillmode": "overlay",
              "size": 10,
              "solidity": 0.2
             }
            },
            "type": "histogram"
           }
          ],
          "histogram2d": [
           {
            "colorbar": {
             "outlinewidth": 0,
             "ticks": ""
            },
            "colorscale": [
             [
              0,
              "#0d0887"
             ],
             [
              0.1111111111111111,
              "#46039f"
             ],
             [
              0.2222222222222222,
              "#7201a8"
             ],
             [
              0.3333333333333333,
              "#9c179e"
             ],
             [
              0.4444444444444444,
              "#bd3786"
             ],
             [
              0.5555555555555556,
              "#d8576b"
             ],
             [
              0.6666666666666666,
              "#ed7953"
             ],
             [
              0.7777777777777778,
              "#fb9f3a"
             ],
             [
              0.8888888888888888,
              "#fdca26"
             ],
             [
              1,
              "#f0f921"
             ]
            ],
            "type": "histogram2d"
           }
          ],
          "histogram2dcontour": [
           {
            "colorbar": {
             "outlinewidth": 0,
             "ticks": ""
            },
            "colorscale": [
             [
              0,
              "#0d0887"
             ],
             [
              0.1111111111111111,
              "#46039f"
             ],
             [
              0.2222222222222222,
              "#7201a8"
             ],
             [
              0.3333333333333333,
              "#9c179e"
             ],
             [
              0.4444444444444444,
              "#bd3786"
             ],
             [
              0.5555555555555556,
              "#d8576b"
             ],
             [
              0.6666666666666666,
              "#ed7953"
             ],
             [
              0.7777777777777778,
              "#fb9f3a"
             ],
             [
              0.8888888888888888,
              "#fdca26"
             ],
             [
              1,
              "#f0f921"
             ]
            ],
            "type": "histogram2dcontour"
           }
          ],
          "mesh3d": [
           {
            "colorbar": {
             "outlinewidth": 0,
             "ticks": ""
            },
            "type": "mesh3d"
           }
          ],
          "parcoords": [
           {
            "line": {
             "colorbar": {
              "outlinewidth": 0,
              "ticks": ""
             }
            },
            "type": "parcoords"
           }
          ],
          "pie": [
           {
            "automargin": true,
            "type": "pie"
           }
          ],
          "scatter": [
           {
            "fillpattern": {
             "fillmode": "overlay",
             "size": 10,
             "solidity": 0.2
            },
            "type": "scatter"
           }
          ],
          "scatter3d": [
           {
            "line": {
             "colorbar": {
              "outlinewidth": 0,
              "ticks": ""
             }
            },
            "marker": {
             "colorbar": {
              "outlinewidth": 0,
              "ticks": ""
             }
            },
            "type": "scatter3d"
           }
          ],
          "scattercarpet": [
           {
            "marker": {
             "colorbar": {
              "outlinewidth": 0,
              "ticks": ""
             }
            },
            "type": "scattercarpet"
           }
          ],
          "scattergeo": [
           {
            "marker": {
             "colorbar": {
              "outlinewidth": 0,
              "ticks": ""
             }
            },
            "type": "scattergeo"
           }
          ],
          "scattergl": [
           {
            "marker": {
             "colorbar": {
              "outlinewidth": 0,
              "ticks": ""
             }
            },
            "type": "scattergl"
           }
          ],
          "scattermap": [
           {
            "marker": {
             "colorbar": {
              "outlinewidth": 0,
              "ticks": ""
             }
            },
            "type": "scattermap"
           }
          ],
          "scattermapbox": [
           {
            "marker": {
             "colorbar": {
              "outlinewidth": 0,
              "ticks": ""
             }
            },
            "type": "scattermapbox"
           }
          ],
          "scatterpolar": [
           {
            "marker": {
             "colorbar": {
              "outlinewidth": 0,
              "ticks": ""
             }
            },
            "type": "scatterpolar"
           }
          ],
          "scatterpolargl": [
           {
            "marker": {
             "colorbar": {
              "outlinewidth": 0,
              "ticks": ""
             }
            },
            "type": "scatterpolargl"
           }
          ],
          "scatterternary": [
           {
            "marker": {
             "colorbar": {
              "outlinewidth": 0,
              "ticks": ""
             }
            },
            "type": "scatterternary"
           }
          ],
          "surface": [
           {
            "colorbar": {
             "outlinewidth": 0,
             "ticks": ""
            },
            "colorscale": [
             [
              0,
              "#0d0887"
             ],
             [
              0.1111111111111111,
              "#46039f"
             ],
             [
              0.2222222222222222,
              "#7201a8"
             ],
             [
              0.3333333333333333,
              "#9c179e"
             ],
             [
              0.4444444444444444,
              "#bd3786"
             ],
             [
              0.5555555555555556,
              "#d8576b"
             ],
             [
              0.6666666666666666,
              "#ed7953"
             ],
             [
              0.7777777777777778,
              "#fb9f3a"
             ],
             [
              0.8888888888888888,
              "#fdca26"
             ],
             [
              1,
              "#f0f921"
             ]
            ],
            "type": "surface"
           }
          ],
          "table": [
           {
            "cells": {
             "fill": {
              "color": "#EBF0F8"
             },
             "line": {
              "color": "white"
             }
            },
            "header": {
             "fill": {
              "color": "#C8D4E3"
             },
             "line": {
              "color": "white"
             }
            },
            "type": "table"
           }
          ]
         },
         "layout": {
          "annotationdefaults": {
           "arrowcolor": "#2a3f5f",
           "arrowhead": 0,
           "arrowwidth": 1
          },
          "autotypenumbers": "strict",
          "coloraxis": {
           "colorbar": {
            "outlinewidth": 0,
            "ticks": ""
           }
          },
          "colorscale": {
           "diverging": [
            [
             0,
             "#8e0152"
            ],
            [
             0.1,
             "#c51b7d"
            ],
            [
             0.2,
             "#de77ae"
            ],
            [
             0.3,
             "#f1b6da"
            ],
            [
             0.4,
             "#fde0ef"
            ],
            [
             0.5,
             "#f7f7f7"
            ],
            [
             0.6,
             "#e6f5d0"
            ],
            [
             0.7,
             "#b8e186"
            ],
            [
             0.8,
             "#7fbc41"
            ],
            [
             0.9,
             "#4d9221"
            ],
            [
             1,
             "#276419"
            ]
           ],
           "sequential": [
            [
             0,
             "#0d0887"
            ],
            [
             0.1111111111111111,
             "#46039f"
            ],
            [
             0.2222222222222222,
             "#7201a8"
            ],
            [
             0.3333333333333333,
             "#9c179e"
            ],
            [
             0.4444444444444444,
             "#bd3786"
            ],
            [
             0.5555555555555556,
             "#d8576b"
            ],
            [
             0.6666666666666666,
             "#ed7953"
            ],
            [
             0.7777777777777778,
             "#fb9f3a"
            ],
            [
             0.8888888888888888,
             "#fdca26"
            ],
            [
             1,
             "#f0f921"
            ]
           ],
           "sequentialminus": [
            [
             0,
             "#0d0887"
            ],
            [
             0.1111111111111111,
             "#46039f"
            ],
            [
             0.2222222222222222,
             "#7201a8"
            ],
            [
             0.3333333333333333,
             "#9c179e"
            ],
            [
             0.4444444444444444,
             "#bd3786"
            ],
            [
             0.5555555555555556,
             "#d8576b"
            ],
            [
             0.6666666666666666,
             "#ed7953"
            ],
            [
             0.7777777777777778,
             "#fb9f3a"
            ],
            [
             0.8888888888888888,
             "#fdca26"
            ],
            [
             1,
             "#f0f921"
            ]
           ]
          },
          "colorway": [
           "#636efa",
           "#EF553B",
           "#00cc96",
           "#ab63fa",
           "#FFA15A",
           "#19d3f3",
           "#FF6692",
           "#B6E880",
           "#FF97FF",
           "#FECB52"
          ],
          "font": {
           "color": "#2a3f5f"
          },
          "geo": {
           "bgcolor": "white",
           "lakecolor": "white",
           "landcolor": "#E5ECF6",
           "showlakes": true,
           "showland": true,
           "subunitcolor": "white"
          },
          "hoverlabel": {
           "align": "left"
          },
          "hovermode": "closest",
          "mapbox": {
           "style": "light"
          },
          "paper_bgcolor": "white",
          "plot_bgcolor": "#E5ECF6",
          "polar": {
           "angularaxis": {
            "gridcolor": "white",
            "linecolor": "white",
            "ticks": ""
           },
           "bgcolor": "#E5ECF6",
           "radialaxis": {
            "gridcolor": "white",
            "linecolor": "white",
            "ticks": ""
           }
          },
          "scene": {
           "xaxis": {
            "backgroundcolor": "#E5ECF6",
            "gridcolor": "white",
            "gridwidth": 2,
            "linecolor": "white",
            "showbackground": true,
            "ticks": "",
            "zerolinecolor": "white"
           },
           "yaxis": {
            "backgroundcolor": "#E5ECF6",
            "gridcolor": "white",
            "gridwidth": 2,
            "linecolor": "white",
            "showbackground": true,
            "ticks": "",
            "zerolinecolor": "white"
           },
           "zaxis": {
            "backgroundcolor": "#E5ECF6",
            "gridcolor": "white",
            "gridwidth": 2,
            "linecolor": "white",
            "showbackground": true,
            "ticks": "",
            "zerolinecolor": "white"
           }
          },
          "shapedefaults": {
           "line": {
            "color": "#2a3f5f"
           }
          },
          "ternary": {
           "aaxis": {
            "gridcolor": "white",
            "linecolor": "white",
            "ticks": ""
           },
           "baxis": {
            "gridcolor": "white",
            "linecolor": "white",
            "ticks": ""
           },
           "bgcolor": "#E5ECF6",
           "caxis": {
            "gridcolor": "white",
            "linecolor": "white",
            "ticks": ""
           }
          },
          "title": {
           "x": 0.05
          },
          "xaxis": {
           "automargin": true,
           "gridcolor": "white",
           "linecolor": "white",
           "ticks": "",
           "title": {
            "standoff": 15
           },
           "zerolinecolor": "white",
           "zerolinewidth": 2
          },
          "yaxis": {
           "automargin": true,
           "gridcolor": "white",
           "linecolor": "white",
           "ticks": "",
           "title": {
            "standoff": 15
           },
           "zerolinecolor": "white",
           "zerolinewidth": 2
          }
         }
        },
        "xaxis": {
         "linecolor": "black",
         "linewidth": 2,
         "showline": true
        }
       }
      }
     },
     "metadata": {},
     "output_type": "display_data"
    }
   ],
   "source": [
    "import plotly.express as px\n",
    "import plotly.graph_objects as go\n",
    "\n",
    "# Define axis line length\n",
    "axis_range = [-1.5, 1.5]\n",
    "\n",
    "# x-axis\n",
    "x_axis = go.Scatter3d(\n",
    "    x=axis_range,\n",
    "    y=[0, 0],\n",
    "    z=[0, 0],\n",
    "    mode='lines',\n",
    "    line=dict(color='red', width=1),\n",
    "    name='x-axis'\n",
    ")\n",
    "\n",
    "# y-axis\n",
    "y_axis = go.Scatter3d(\n",
    "    x=[0, 0],\n",
    "    y=axis_range,\n",
    "    z=[0, 0],\n",
    "    mode='lines',\n",
    "    line=dict(color='green', width=1),\n",
    "    name='y-axis'\n",
    ")\n",
    "\n",
    "# z-axis\n",
    "z_axis = go.Scatter3d(\n",
    "    x=[0, 0],\n",
    "    y=[0, 0],\n",
    "    z=axis_range,\n",
    "    mode='lines',\n",
    "    line=dict(color='blue', width=1),\n",
    "    name='z-axis'\n",
    ")\n",
    "\n",
    "# Label the six important states\n",
    "labeled_points = go.Scatter3d(\n",
    "    x=[1, -1, 0, 0, 0, 0],\n",
    "    y=[0, 0, 1, -1, 0, 0],\n",
    "    z=[0, 0, 0, 0, 1, -1],  \n",
    "    mode='markers+text',\n",
    "    marker=dict(size=2, color='black'),\n",
    "    text=['|+>', '|->', '|+i>', '|-i>', '|0>', '|1>'],  # Labels\n",
    "    textposition='top center',\n",
    "    name='Important States'\n",
    ")\n",
    "\n",
    "# Create sphere surface\n",
    "u, v = np.mgrid[0:2*np.pi:20*2j, 0:np.pi:20*1j]\n",
    "X = np.cos(u)*np.sin(v)\n",
    "Y = np.sin(u)*np.sin(v)\n",
    "Z = np.cos(v)\n",
    "surface = go.Surface(x=X, y=Y, z=Z, opacity=0.4, colorscale=[[0, 'white'], [1, 'white']])\n",
    "\n",
    "# Create qubit vector\n",
    "X = np.cos(phi)*np.sin(theta)\n",
    "Y = np.sin(phi)*np.sin(theta)\n",
    "Z = np.cos(theta)\n",
    "vector = go.Scatter3d(\n",
    "    x=[0, X*0.8],\n",
    "    y=[0, Y*0.8],\n",
    "    z=[0, Z*0.8],\n",
    "    mode='lines+markers',\n",
    "    line=dict(color='purple', width=6),\n",
    "    marker=dict(size=2, color='purple'),\n",
    "    name='qubit state'\n",
    ")\n",
    "cone = go.Cone(\n",
    "    x=[X],\n",
    "    y=[Y],\n",
    "    z=[Z],\n",
    "    u=[X],\n",
    "    v=[Y],\n",
    "    w=[Z],\n",
    "    sizemode='absolute',\n",
    "    sizeref=0.2,\n",
    "    anchor='tip',\n",
    "    showscale=False,\n",
    "    colorscale=[[0, 'purple'], [1, 'purple']]\n",
    ")\n",
    "print(X)\n",
    "\n",
    "\n",
    "# Display the sphere and the points\n",
    "fig = go.Figure(data=[surface, x_axis, y_axis, z_axis, labeled_points, vector, cone])\n",
    "fig.update_xaxes(showline=True, linewidth=2, linecolor=\"black\")\n",
    "fig.show()\n",
    "\n"
   ]
  }
 ],
 "metadata": {
  "kernelspec": {
   "display_name": ".venv",
   "language": "python",
   "name": "python3"
  },
  "language_info": {
   "codemirror_mode": {
    "name": "ipython",
    "version": 3
   },
   "file_extension": ".py",
   "mimetype": "text/x-python",
   "name": "python",
   "nbconvert_exporter": "python",
   "pygments_lexer": "ipython3",
   "version": "3.13.1"
  }
 },
 "nbformat": 4,
 "nbformat_minor": 5
}
